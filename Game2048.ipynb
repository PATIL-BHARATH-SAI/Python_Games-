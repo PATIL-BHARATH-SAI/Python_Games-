{
 "cells": [
  {
   "cell_type": "code",
   "execution_count": 1,
   "metadata": {},
   "outputs": [
    {
     "name": "stdout",
     "output_type": "stream",
     "text": [
      "Note: you may need to restart the kernel to use updated packages.\n"
     ]
    },
    {
     "name": "stderr",
     "output_type": "stream",
     "text": [
      "ERROR: Could not find a version that satisfies the requirement tkinter (from versions: none)\n",
      "ERROR: No matching distribution found for tkinter\n",
      "\n",
      "[notice] A new release of pip is available: 24.1.1 -> 24.2\n",
      "[notice] To update, run: python.exe -m pip install --upgrade pip\n"
     ]
    }
   ],
   "source": [
    "pip install tkinter"
   ]
  },
  {
   "cell_type": "code",
   "execution_count": 2,
   "metadata": {},
   "outputs": [
    {
     "name": "stdout",
     "output_type": "stream",
     "text": [
      "Game Over! Score: 140\n",
      "Game Over! Score: 140\n",
      "Game Over! Score: 140\n",
      "Game Over! Score: 140\n",
      "Game Over! Score: 140\n",
      "Game Over! Score: 140\n",
      "Game Over! Score: 140\n"
     ]
    }
   ],
   "source": [
    "\n",
    "import tkinter as tk\n",
    "import random\n",
    "\n",
    "class Game2048:\n",
    "    def __init__(self, master):\n",
    "        self.master = master\n",
    "        self.master.title(\"2048\")\n",
    "        self.master.geometry(\"400x400\")\n",
    "        self.master.bind(\"<Key>\", self.handle_key)\n",
    "\n",
    "        self.grid_size = 4\n",
    "        self.grid = [[0] * self.grid_size for _ in range(self.grid_size)]\n",
    "        self.score = 0\n",
    "\n",
    "        self.init_grid()\n",
    "        self.add_tile()\n",
    "        self.update_grid()\n",
    "\n",
    "    def init_grid(self):\n",
    "        self.tiles = []\n",
    "        for i in range(self.grid_size):\n",
    "            row = []\n",
    "            for j in range(self.grid_size):\n",
    "                tile = tk.Label(self.master, text=\"\", font=(\"Helvetica\", 32), width=4, height=2, relief=\"raised\")\n",
    "                tile.grid(row=i, column=j, padx=5, pady=5)\n",
    "                row.append(tile)\n",
    "            self.tiles.append(row)\n",
    "\n",
    "    def add_tile(self):\n",
    "        empty_cells = [(i, j) for i in range(self.grid_size) for j in range(self.grid_size) if self.grid[i][j] == 0]\n",
    "        if empty_cells:\n",
    "            i, j = random.choice(empty_cells)\n",
    "            self.grid[i][j] = 2 if random.random() < 0.9 else 4\n",
    "\n",
    "    def update_grid(self):\n",
    "        for i in range(self.grid_size):\n",
    "            for j in range(self.grid_size):\n",
    "                value = self.grid[i][j]\n",
    "                if value == 0:\n",
    "                    self.tiles[i][j].configure(text=\"\", bg=\"lightgray\")\n",
    "                else:\n",
    "                    self.tiles[i][j].configure(text=str(value), bg=\"lightblue\")\n",
    "        self.master.update_idletasks()\n",
    "\n",
    "    def handle_key(self, event):\n",
    "        if event.keysym in ['Up', 'Down', 'Left', 'Right']:\n",
    "            self.move_tiles(event.keysym)\n",
    "            self.add_tile()\n",
    "            self.update_grid()\n",
    "            if self.check_game_over():\n",
    "                print(\"Game Over! Score:\", self.score)\n",
    "\n",
    "    def move_tiles(self, direction):\n",
    "        if direction == 'Up':\n",
    "            self.grid = self.transpose(self.grid)\n",
    "            self.grid = self.merge_tiles(self.grid)\n",
    "            self.grid = self.transpose(self.grid)\n",
    "        elif direction == 'Down':\n",
    "            self.grid = self.reverse(self.transpose(self.grid))\n",
    "            self.grid = self.merge_tiles(self.grid)\n",
    "            self.grid = self.transpose(self.reverse(self.grid))\n",
    "        elif direction == 'Left':\n",
    "            self.grid = self.merge_tiles(self.grid)\n",
    "        elif direction == 'Right':\n",
    "            self.grid = self.reverse(self.grid)\n",
    "            self.grid = self.merge_tiles(self.grid)\n",
    "            self.grid = self.reverse(self.grid)\n",
    "\n",
    "    def merge_tiles(self, grid):\n",
    "        score = 0\n",
    "        for i in range(self.grid_size):\n",
    "            j = 0\n",
    "            while j < self.grid_size - 1:\n",
    "                if grid[i][j] == grid[i][j+1] and grid[i][j] != 0:\n",
    "                    grid[i][j] *= 2\n",
    "                    score += grid[i][j]\n",
    "                    grid[i][j+1] = 0\n",
    "                    j += 2\n",
    "                else:\n",
    "                    j += 1\n",
    "        self.score += score\n",
    "        return grid\n",
    "\n",
    "    def check_game_over(self):\n",
    "        for i in range(self.grid_size):\n",
    "            for j in range(self.grid_size):\n",
    "                if self.grid[i][j] == 0:\n",
    "                    return False\n",
    "                if j < self.grid_size - 1 and self.grid[i][j] == self.grid[i][j+1]:\n",
    "                    return False\n",
    "                if i < self.grid_size - 1 and self.grid[i][j] == self.grid[i+1][j]:\n",
    "                    return False\n",
    "        return True\n",
    "\n",
    "    @staticmethod\n",
    "    def transpose(matrix):\n",
    "        return [[row[i] for row in matrix] for i in range(len(matrix[0]))]\n",
    "\n",
    "    @staticmethod\n",
    "    def reverse(matrix):\n",
    "        return [row[::-1] for row in matrix]\n",
    "\n",
    "def main():\n",
    "    root = tk.Tk()\n",
    "    game = Game2048(root)\n",
    "    root.mainloop()\n",
    "\n",
    "if __name__ == \"__main__\":\n",
    "    main()"
   ]
  }
 ],
 "metadata": {
  "kernelspec": {
   "display_name": "Python 3",
   "language": "python",
   "name": "python3"
  },
  "language_info": {
   "codemirror_mode": {
    "name": "ipython",
    "version": 3
   },
   "file_extension": ".py",
   "mimetype": "text/x-python",
   "name": "python",
   "nbconvert_exporter": "python",
   "pygments_lexer": "ipython3",
   "version": "3.12.3"
  }
 },
 "nbformat": 4,
 "nbformat_minor": 2
}
